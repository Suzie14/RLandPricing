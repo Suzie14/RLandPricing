{
 "cells": [
  {
   "cell_type": "code",
   "execution_count": 1,
   "metadata": {},
   "outputs": [],
   "source": [
    "import pandas as pd"
   ]
  },
  {
   "cell_type": "code",
   "execution_count": 2,
   "metadata": {},
   "outputs": [],
   "source": [
    "import os\n",
    "import pickle\n",
    "\n",
    "folder_path = \"../data/data/data_sim/\"\n",
    "\n",
    "# Get a list of all files in the folder\n",
    "pickle_files = [file for file in os.listdir(folder_path) if file.endswith('.pkl')]\n",
    "\n",
    "# Loop through the list of pickle files and load them\n",
    "loaded_pickles = []\n",
    "for file_name in pickle_files:\n",
    "    file_path = os.path.join(folder_path, file_name)\n",
    "    with open(file_path, 'rb') as file:\n",
    "        loaded_pickle = pickle.load(file)\n",
    "        loaded_pickles.append(loaded_pickle)\n",
    "\n",
    "# Now, loaded_pickles contains all the pickles from the folder\n",
    "sim_df = pd.concat(loaded_pickles, ignore_index=True)"
   ]
  },
  {
   "cell_type": "code",
   "execution_count": 3,
   "metadata": {},
   "outputs": [],
   "source": [
    "sim_df.to_csv('../final_data/epsilon_q2.csv', index=False)"
   ]
  },
  {
   "cell_type": "code",
   "execution_count": 7,
   "metadata": {},
   "outputs": [],
   "source": [
    "import os\n",
    "import pickle\n",
    "\n",
    "folder_path = \"../data/data/data_Q/\"\n",
    "\n",
    "# Get a list of all files in the folder\n",
    "pickle_files = [file for file in os.listdir(folder_path) if file.endswith('.pkl')]\n",
    "\n",
    "# Loop through the list of pickle files and load them\n",
    "loaded_pickles = []\n",
    "for file_name in pickle_files:\n",
    "    file_path = os.path.join(folder_path, file_name)\n",
    "    with open(file_path, 'rb') as file:\n",
    "        loaded_pickle = pickle.load(file)\n",
    "        loaded_pickles.append(loaded_pickle)\n",
    "\n",
    "# Now, loaded_pickles contains all the pickles from the folder\n",
    "Q_df = pd.concat(loaded_pickles, ignore_index=True)"
   ]
  },
  {
   "cell_type": "code",
   "execution_count": 8,
   "metadata": {},
   "outputs": [],
   "source": [
    "Q_df.to_csv('../final_data/Q_q2.csv', index=False)"
   ]
  }
 ],
 "metadata": {
  "kernelspec": {
   "display_name": ".venv",
   "language": "python",
   "name": "python3"
  },
  "language_info": {
   "codemirror_mode": {
    "name": "ipython",
    "version": 3
   },
   "file_extension": ".py",
   "mimetype": "text/x-python",
   "name": "python",
   "nbconvert_exporter": "python",
   "pygments_lexer": "ipython3",
   "version": "3.9.0"
  }
 },
 "nbformat": 4,
 "nbformat_minor": 2
}
