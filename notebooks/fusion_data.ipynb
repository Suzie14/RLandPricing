{
 "cells": [
  {
   "cell_type": "code",
   "execution_count": 1,
   "metadata": {},
   "outputs": [],
   "source": [
    "import pandas as pd\n",
    "import re"
   ]
  },
  {
   "cell_type": "code",
   "execution_count": 2,
   "metadata": {},
   "outputs": [],
   "source": [
    "import os\n",
    "import pickle\n",
    "\n",
    "folder_path = \"../data/data_simbis/\"\n",
    "\n",
    "# Get a list of all files in the folder\n",
    "pickle_files = [file for file in os.listdir(folder_path) if file.endswith('.pkl')]\n",
    "\n",
    "# Loop through the list of pickle files and load them\n",
    "loaded_pickles = []\n",
    "for file_name in pickle_files:\n",
    "    file_path = os.path.join(folder_path, file_name)\n",
    "    with open(file_path, 'rb') as file:\n",
    "        loaded_pickle = pickle.load(file)\n",
    "        loaded_pickles.append(loaded_pickle)\n",
    "\n",
    "# Now, loaded_pickles contains all the pickles from the folder\n",
    "sim_df = pd.concat(loaded_pickles, ignore_index=True)"
   ]
  },
  {
   "cell_type": "code",
   "execution_count": 3,
   "metadata": {},
   "outputs": [
    {
     "data": {
      "text/plain": [
       "Iteration     object\n",
       "Rewards       object\n",
       "Prices        object\n",
       "Epsilon       object\n",
       "beta         float64\n",
       "index          int64\n",
       "dtype: object"
      ]
     },
     "execution_count": 3,
     "metadata": {},
     "output_type": "execute_result"
    }
   ],
   "source": [
    "sim_df.dtypes"
   ]
  },
  {
   "cell_type": "code",
   "execution_count": 17,
   "metadata": {},
   "outputs": [
    {
     "data": {
      "text/plain": [
       "0.28044202997287715"
      ]
     },
     "execution_count": 17,
     "metadata": {},
     "output_type": "execute_result"
    }
   ],
   "source": [
    "sim_df['Rewards'][0][1]"
   ]
  },
  {
   "cell_type": "code",
   "execution_count": 4,
   "metadata": {},
   "outputs": [
    {
     "name": "stderr",
     "output_type": "stream",
     "text": [
      "/var/folders/1v/lw80nwsd61d7sp0q_pzj0ppm0000gp/T/ipykernel_873/355113774.py:15: FutureWarning: Returning a DataFrame from Series.apply when the supplied function returns a Series is deprecated and will be removed in a future version.\n",
      "  sim_df[['Reward1', 'Reward2']] = sim_df['Rewards'].apply(lambda x: pd.Series(x))\n",
      "/var/folders/1v/lw80nwsd61d7sp0q_pzj0ppm0000gp/T/ipykernel_873/355113774.py:16: FutureWarning: Returning a DataFrame from Series.apply when the supplied function returns a Series is deprecated and will be removed in a future version.\n",
      "  sim_df[['Price1', 'Price2']] = sim_df['Prices'].apply(lambda x: pd.Series(x))\n",
      "/var/folders/1v/lw80nwsd61d7sp0q_pzj0ppm0000gp/T/ipykernel_873/355113774.py:17: FutureWarning: Returning a DataFrame from Series.apply when the supplied function returns a Series is deprecated and will be removed in a future version.\n",
      "  sim_df[['Epsilon1', 'Epsilon2']] = sim_df['Epsilon'].apply(lambda x: pd.Series(x))\n"
     ]
    }
   ],
   "source": [
    "def extract_numbers(text):\n",
    "    numbers = re.findall(r'-?\\d+\\.?\\d*(?:e[-+]?\\d+)?', text)\n",
    "    return [float(num) for num in numbers]\n",
    "\n",
    "# # Apply the function to the column and convert the strings into lists of two numbers\n",
    "# sim_df['Rewards'] = sim_df['Rewards'].apply(extract_numbers)\n",
    "# sim_df['Prices'] = sim_df['Prices'].apply(extract_numbers)\n",
    "# sim_df['Epsilon'] = sim_df['Epsilon'].apply(extract_numbers)\n",
    "\n",
    "#Convert into int if digit\n",
    "sim_df['Iteration'] = sim_df['Iteration'].apply(lambda x: int(x) if str(x).isdigit() else x)\n",
    "\n",
    "\n",
    "#Separate the profits, prices and Epsilon of each player\n",
    "sim_df[['Reward1', 'Reward2']] = sim_df['Rewards'].apply(lambda x: pd.Series(x))\n",
    "sim_df[['Price1', 'Price2']] = sim_df['Prices'].apply(lambda x: pd.Series(x))\n",
    "sim_df[['Epsilon1', 'Epsilon2']] = sim_df['Epsilon'].apply(lambda x: pd.Series(x))\n",
    "\n",
    "#Drop the useless columns\n",
    "sim_df = sim_df.drop(columns=['Rewards', 'Prices', 'Epsilon'])"
   ]
  },
  {
   "cell_type": "code",
   "execution_count": 5,
   "metadata": {},
   "outputs": [
    {
     "data": {
      "text/html": [
       "<div>\n",
       "<style scoped>\n",
       "    .dataframe tbody tr th:only-of-type {\n",
       "        vertical-align: middle;\n",
       "    }\n",
       "\n",
       "    .dataframe tbody tr th {\n",
       "        vertical-align: top;\n",
       "    }\n",
       "\n",
       "    .dataframe thead th {\n",
       "        text-align: right;\n",
       "    }\n",
       "</style>\n",
       "<table border=\"1\" class=\"dataframe\">\n",
       "  <thead>\n",
       "    <tr style=\"text-align: right;\">\n",
       "      <th></th>\n",
       "      <th>Iteration</th>\n",
       "      <th>beta</th>\n",
       "      <th>index</th>\n",
       "      <th>Reward1</th>\n",
       "      <th>Reward2</th>\n",
       "      <th>Price1</th>\n",
       "      <th>Price2</th>\n",
       "      <th>Epsilon1</th>\n",
       "      <th>Epsilon2</th>\n",
       "    </tr>\n",
       "  </thead>\n",
       "  <tbody>\n",
       "    <tr>\n",
       "      <th>0</th>\n",
       "      <td>0</td>\n",
       "      <td>0.002500</td>\n",
       "      <td>1</td>\n",
       "      <td>0.200833</td>\n",
       "      <td>0.280442</td>\n",
       "      <td>1.6195</td>\n",
       "      <td>1.4635</td>\n",
       "      <td>1.000000e+00</td>\n",
       "      <td>1.000000e+00</td>\n",
       "    </tr>\n",
       "    <tr>\n",
       "      <th>1</th>\n",
       "      <td>10000</td>\n",
       "      <td>0.002500</td>\n",
       "      <td>1</td>\n",
       "      <td>0.217067</td>\n",
       "      <td>0.202776</td>\n",
       "      <td>1.4245</td>\n",
       "      <td>1.4635</td>\n",
       "      <td>1.392271e-11</td>\n",
       "      <td>9.048465e-01</td>\n",
       "    </tr>\n",
       "    <tr>\n",
       "      <th>2</th>\n",
       "      <td>20000</td>\n",
       "      <td>0.002500</td>\n",
       "      <td>1</td>\n",
       "      <td>0.298722</td>\n",
       "      <td>0.271664</td>\n",
       "      <td>1.6195</td>\n",
       "      <td>1.6585</td>\n",
       "      <td>1.933578e-22</td>\n",
       "      <td>8.187389e-01</td>\n",
       "    </tr>\n",
       "    <tr>\n",
       "      <th>3</th>\n",
       "      <td>30000</td>\n",
       "      <td>0.002500</td>\n",
       "      <td>1</td>\n",
       "      <td>0.207851</td>\n",
       "      <td>0.384671</td>\n",
       "      <td>1.8535</td>\n",
       "      <td>1.6195</td>\n",
       "      <td>2.685342e-33</td>\n",
       "      <td>7.408256e-01</td>\n",
       "    </tr>\n",
       "    <tr>\n",
       "      <th>4</th>\n",
       "      <td>40000</td>\n",
       "      <td>0.002500</td>\n",
       "      <td>1</td>\n",
       "      <td>0.212486</td>\n",
       "      <td>0.399740</td>\n",
       "      <td>1.8925</td>\n",
       "      <td>1.6585</td>\n",
       "      <td>3.729388e-44</td>\n",
       "      <td>6.703267e-01</td>\n",
       "    </tr>\n",
       "    <tr>\n",
       "      <th>...</th>\n",
       "      <td>...</td>\n",
       "      <td>...</td>\n",
       "      <td>...</td>\n",
       "      <td>...</td>\n",
       "      <td>...</td>\n",
       "      <td>...</td>\n",
       "      <td>...</td>\n",
       "      <td>...</td>\n",
       "      <td>...</td>\n",
       "    </tr>\n",
       "    <tr>\n",
       "      <th>190375</th>\n",
       "      <td>9970000</td>\n",
       "      <td>0.000025</td>\n",
       "      <td>10</td>\n",
       "      <td>0.159728</td>\n",
       "      <td>0.405275</td>\n",
       "      <td>1.9315</td>\n",
       "      <td>1.5805</td>\n",
       "      <td>5.650817e-109</td>\n",
       "      <td>5.021628e-44</td>\n",
       "    </tr>\n",
       "    <tr>\n",
       "      <th>190376</th>\n",
       "      <td>9980000</td>\n",
       "      <td>0.000025</td>\n",
       "      <td>10</td>\n",
       "      <td>0.159728</td>\n",
       "      <td>0.405275</td>\n",
       "      <td>1.9315</td>\n",
       "      <td>1.5805</td>\n",
       "      <td>4.400861e-109</td>\n",
       "      <td>4.543756e-44</td>\n",
       "    </tr>\n",
       "    <tr>\n",
       "      <th>190377</th>\n",
       "      <td>9990000</td>\n",
       "      <td>0.000025</td>\n",
       "      <td>10</td>\n",
       "      <td>0.159728</td>\n",
       "      <td>0.405275</td>\n",
       "      <td>1.9315</td>\n",
       "      <td>1.5805</td>\n",
       "      <td>3.427394e-109</td>\n",
       "      <td>4.111361e-44</td>\n",
       "    </tr>\n",
       "    <tr>\n",
       "      <th>190378</th>\n",
       "      <td>10000000</td>\n",
       "      <td>0.000025</td>\n",
       "      <td>10</td>\n",
       "      <td>0.159728</td>\n",
       "      <td>0.405275</td>\n",
       "      <td>1.9315</td>\n",
       "      <td>1.5805</td>\n",
       "      <td>2.669257e-109</td>\n",
       "      <td>3.720113e-44</td>\n",
       "    </tr>\n",
       "    <tr>\n",
       "      <th>190379</th>\n",
       "      <td>last 100 iterations mean</td>\n",
       "      <td>0.000025</td>\n",
       "      <td>10</td>\n",
       "      <td>0.241790</td>\n",
       "      <td>0.348921</td>\n",
       "      <td>1.8145</td>\n",
       "      <td>1.6585</td>\n",
       "      <td>2.672563e-109</td>\n",
       "      <td>3.721955e-44</td>\n",
       "    </tr>\n",
       "  </tbody>\n",
       "</table>\n",
       "<p>190380 rows × 9 columns</p>\n",
       "</div>"
      ],
      "text/plain": [
       "                       Iteration      beta  index   Reward1   Reward2  Price1  \\\n",
       "0                              0  0.002500      1  0.200833  0.280442  1.6195   \n",
       "1                          10000  0.002500      1  0.217067  0.202776  1.4245   \n",
       "2                          20000  0.002500      1  0.298722  0.271664  1.6195   \n",
       "3                          30000  0.002500      1  0.207851  0.384671  1.8535   \n",
       "4                          40000  0.002500      1  0.212486  0.399740  1.8925   \n",
       "...                          ...       ...    ...       ...       ...     ...   \n",
       "190375                   9970000  0.000025     10  0.159728  0.405275  1.9315   \n",
       "190376                   9980000  0.000025     10  0.159728  0.405275  1.9315   \n",
       "190377                   9990000  0.000025     10  0.159728  0.405275  1.9315   \n",
       "190378                  10000000  0.000025     10  0.159728  0.405275  1.9315   \n",
       "190379  last 100 iterations mean  0.000025     10  0.241790  0.348921  1.8145   \n",
       "\n",
       "        Price2       Epsilon1      Epsilon2  \n",
       "0       1.4635   1.000000e+00  1.000000e+00  \n",
       "1       1.4635   1.392271e-11  9.048465e-01  \n",
       "2       1.6585   1.933578e-22  8.187389e-01  \n",
       "3       1.6195   2.685342e-33  7.408256e-01  \n",
       "4       1.6585   3.729388e-44  6.703267e-01  \n",
       "...        ...            ...           ...  \n",
       "190375  1.5805  5.650817e-109  5.021628e-44  \n",
       "190376  1.5805  4.400861e-109  4.543756e-44  \n",
       "190377  1.5805  3.427394e-109  4.111361e-44  \n",
       "190378  1.5805  2.669257e-109  3.720113e-44  \n",
       "190379  1.6585  2.672563e-109  3.721955e-44  \n",
       "\n",
       "[190380 rows x 9 columns]"
      ]
     },
     "execution_count": 5,
     "metadata": {},
     "output_type": "execute_result"
    }
   ],
   "source": [
    "sim_df"
   ]
  },
  {
   "cell_type": "code",
   "execution_count": 20,
   "metadata": {},
   "outputs": [],
   "source": [
    "sim_df.to_csv('../final_data/res_diff_epsilon.csv', index=False)"
   ]
  },
  {
   "cell_type": "code",
   "execution_count": 7,
   "metadata": {},
   "outputs": [],
   "source": [
    "import os\n",
    "import pickle\n",
    "\n",
    "folder_path = \"../data/data/data_Q/\"\n",
    "\n",
    "# Get a list of all files in the folder\n",
    "pickle_files = [file for file in os.listdir(folder_path) if file.endswith('.pkl')]\n",
    "\n",
    "# Loop through the list of pickle files and load them\n",
    "loaded_pickles = []\n",
    "for file_name in pickle_files:\n",
    "    file_path = os.path.join(folder_path, file_name)\n",
    "    with open(file_path, 'rb') as file:\n",
    "        loaded_pickle = pickle.load(file)\n",
    "        loaded_pickles.append(loaded_pickle)\n",
    "\n",
    "# Now, loaded_pickles contains all the pickles from the folder\n",
    "Q_df = pd.concat(loaded_pickles, ignore_index=True)"
   ]
  },
  {
   "cell_type": "code",
   "execution_count": 8,
   "metadata": {},
   "outputs": [],
   "source": [
    "Q_df.to_csv('../final_data/Q_q2.csv', index=False)"
   ]
  }
 ],
 "metadata": {
  "kernelspec": {
   "display_name": ".venv",
   "language": "python",
   "name": "python3"
  },
  "language_info": {
   "codemirror_mode": {
    "name": "ipython",
    "version": 3
   },
   "file_extension": ".py",
   "mimetype": "text/x-python",
   "name": "python",
   "nbconvert_exporter": "python",
   "pygments_lexer": "ipython3",
   "version": "3.9.0"
  }
 },
 "nbformat": 4,
 "nbformat_minor": 2
}
