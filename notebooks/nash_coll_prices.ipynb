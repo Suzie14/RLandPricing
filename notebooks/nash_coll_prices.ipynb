{
 "cells": [
  {
   "cell_type": "code",
   "execution_count": 1,
   "metadata": {},
   "outputs": [],
   "source": [
    "# Adapt this line to suit your need\n",
    "import os\n",
    "os.chdir('../')"
   ]
  },
  {
   "cell_type": "code",
   "execution_count": 2,
   "metadata": {},
   "outputs": [],
   "source": [
    "%load_ext autoreload\n",
    "%autoreload 2\n",
    "\n",
    "#.py\n",
    "from core import prices as pr"
   ]
  },
  {
   "attachments": {},
   "cell_type": "markdown",
   "metadata": {},
   "source": [
    "# Prix et profits de Nash et de Collusion en fonction du nombre de joueurs. "
   ]
  },
  {
   "cell_type": "code",
   "execution_count": 5,
   "metadata": {},
   "outputs": [
    {
     "name": "stdout",
     "output_type": "stream",
     "text": [
      "Collusion profit: 0.16944619012193743\n",
      "Collusion prices: [2.0976924]\n",
      "Nash profit: 0.06122499239273175\n",
      "Nash prices: [1.31 1.31 1.31 1.31 1.31]\n"
     ]
    }
   ],
   "source": [
    "prices = pr.PriceOptimizer(nb_players=5) #init\n",
    "\n",
    "# Obtain both prices and profits of Nash and of collusion\n",
    "collusion_profit, collusion_prices = prices.CollusionPrice()\n",
    "nash_profit, nash_prices = prices.NashPrice()\n",
    "print(\"Collusion profit:\", collusion_profit)\n",
    "print(\"Collusion prices:\", collusion_prices)\n",
    "print(\"Nash profit:\", nash_profit)\n",
    "print(\"Nash prices:\", nash_prices)\n",
    "\n"
   ]
  },
  {
   "cell_type": "code",
   "execution_count": 6,
   "metadata": {},
   "outputs": [
    {
     "name": "stdout",
     "output_type": "stream",
     "text": [
      "Collusion price: 2.0976924028867607\n",
      "Nash price: 1.3100000000000003\n"
     ]
    }
   ],
   "source": [
    "# Obtain only the Nash and collusion prices\n",
    "collusion_price, nash_price = prices()\n",
    "\n",
    "print(\"Collusion price:\", collusion_price)\n",
    "print(\"Nash price:\", nash_price)"
   ]
  }
 ],
 "metadata": {
  "kernelspec": {
   "display_name": "Python 3",
   "language": "python",
   "name": "python3"
  },
  "language_info": {
   "codemirror_mode": {
    "name": "ipython",
    "version": 3
   },
   "file_extension": ".py",
   "mimetype": "text/x-python",
   "name": "python",
   "nbconvert_exporter": "python",
   "pygments_lexer": "ipython3",
   "version": "3.9.0"
  },
  "orig_nbformat": 4
 },
 "nbformat": 4,
 "nbformat_minor": 2
}
